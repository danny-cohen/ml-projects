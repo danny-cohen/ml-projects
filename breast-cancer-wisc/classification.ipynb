{
 "cells": [
  {
   "cell_type": "markdown",
   "metadata": {},
   "source": [
    "# Classification algorithm"
   ]
  },
  {
   "cell_type": "code",
   "execution_count": 25,
   "metadata": {
    "scrolled": false
   },
   "outputs": [
    {
     "name": "stdout",
     "output_type": "stream",
     "text": [
      "<class 'pandas.core.frame.DataFrame'>\n",
      "Int64Index: 569 entries, 842302 to 92751\n",
      "Data columns (total 31 columns):\n",
      " #   Column                   Non-Null Count  Dtype  \n",
      "---  ------                   --------------  -----  \n",
      " 0   diagnosis                569 non-null    object \n",
      " 1   radius_mean              569 non-null    float64\n",
      " 2   texture_mean             569 non-null    float64\n",
      " 3   perimeter_mean           569 non-null    float64\n",
      " 4   area_mean                569 non-null    float64\n",
      " 5   smoothness_mean          569 non-null    float64\n",
      " 6   compactness_mean         569 non-null    float64\n",
      " 7   concavity_mean           569 non-null    float64\n",
      " 8   concave points_mean      569 non-null    float64\n",
      " 9   symmetry_mean            569 non-null    float64\n",
      " 10  fractal_dimension_mean   569 non-null    float64\n",
      " 11  radius_se                569 non-null    float64\n",
      " 12  texture_se               569 non-null    float64\n",
      " 13  perimeter_se             569 non-null    float64\n",
      " 14  area_se                  569 non-null    float64\n",
      " 15  smoothness_se            569 non-null    float64\n",
      " 16  compactness_se           569 non-null    float64\n",
      " 17  concavity_se             569 non-null    float64\n",
      " 18  concave points_se        569 non-null    float64\n",
      " 19  symmetry_se              569 non-null    float64\n",
      " 20  fractal_dimension_se     569 non-null    float64\n",
      " 21  radius_worst             569 non-null    float64\n",
      " 22  texture_worst            569 non-null    float64\n",
      " 23  perimeter_worst          569 non-null    float64\n",
      " 24  area_worst               569 non-null    float64\n",
      " 25  smoothness_worst         569 non-null    float64\n",
      " 26  compactness_worst        569 non-null    float64\n",
      " 27  concavity_worst          569 non-null    float64\n",
      " 28  concave points_worst     569 non-null    float64\n",
      " 29  symmetry_worst           569 non-null    float64\n",
      " 30  fractal_dimension_worst  569 non-null    float64\n",
      "dtypes: float64(30), object(1)\n",
      "memory usage: 142.2+ KB\n"
     ]
    }
   ],
   "source": [
    "import matplotlib.pyplot as plt\n",
    "import numpy as np\n",
    "import os \n",
    "import tarfile\n",
    "import urllib \n",
    "import pandas as pd\n",
    "import seaborn as sns\n",
    " \n",
    "# Use pandas to retrieve data file\n",
    "url = '' # use to fetch data file each time\n",
    "cancer = pd.read_csv(\"data.csv\",index_col=0)\n",
    "cancer.head()\n",
    "cancer.info()\n",
    "#cancer.drop(cancer.axis=1)"
   ]
  },
  {
   "cell_type": "markdown",
   "metadata": {},
   "source": [
    "# Split into training, test set "
   ]
  },
  {
   "cell_type": "markdown",
   "metadata": {},
   "source": [
    "##### Use ```sklearn.model_selection.train_test_split``` or do stratified sampling with ```StratifiedShuffleSplit```?"
   ]
  },
  {
   "cell_type": "code",
   "execution_count": 26,
   "metadata": {
    "scrolled": false
   },
   "outputs": [],
   "source": [
    "from sklearn.model_selection import train_test_split\n",
    "#from sklearn.base import clone \n",
    "\n",
    "X_train, X_test, y_train, y_test = train_test_split(cancer.copy().drop(\"diagnosis\",axis=1), cancer.copy().diagnosis,\\\n",
    "                                                    test_size=0.3, shuffle=True, random_state=1)\n",
    "#train_set, test_test = StratifiedShuffleSplit(df, test_size=0.25, random_state=42)\n"
   ]
  },
  {
   "cell_type": "markdown",
   "metadata": {},
   "source": [
    "##### Use ```sklearn.model_selection.train_test_split``` or do stratified sampling with ```StratifiedShuffleSplit```?"
   ]
  },
  {
   "cell_type": "code",
   "execution_count": null,
   "metadata": {
    "scrolled": false
   },
   "outputs": [],
   "source": []
  },
  {
   "cell_type": "markdown",
   "metadata": {},
   "source": [
    "\n",
    "#### Stochastic Gradient Descent classifier ```sklearn.linear_model.SGDClassifier```: https://scikit-learn.org/stable/modules/generated/sklearn.linear_model.SGDClassifier.html#sklearn.linear_model.SGDClassifier\n",
    "\n",
    "Set ```loss=\"hinge\"``` fits a linear SVC (```sklearn.svm.LinearSVC```) but doesn't allow for probability estimates. Use ```loss=\"log\"``` or ```\"modified_huber\"```"
   ]
  },
  {
   "cell_type": "code",
   "execution_count": 27,
   "metadata": {
    "scrolled": false
   },
   "outputs": [],
   "source": [
    "from sklearn.linear_model import SGDClassifier\n",
    "\n",
    "clf = SGDClassifier(loss='modified_huber',max_iter=1e5,tol=1.0e-3,\\\n",
    "                   validation_fraction=0.2,early_stopping=False,random_state=1)"
   ]
  },
  {
   "cell_type": "markdown",
   "metadata": {},
   "source": [
    "#### SGD is sensitive to feature scaling... scale so features have mean=0 and variance=0 using ```StandardScaler()```"
   ]
  },
  {
   "cell_type": "code",
   "execution_count": 28,
   "metadata": {
    "scrolled": false
   },
   "outputs": [],
   "source": [
    "from sklearn.preprocessing import StandardScaler\n",
    "scaler = StandardScaler().fit(X_train)\n",
    "X_train_scaled = scaler.transform(X_train)\n",
    "X_test_scaled = scaler.transform(X_test)"
   ]
  },
  {
   "cell_type": "markdown",
   "metadata": {},
   "source": [
    "#### Fit SGD classifier to training set, and do cross-validation:\n",
    "https://scikit-learn.org/stable/modules/cross_validation.html#cross-validation"
   ]
  },
  {
   "cell_type": "code",
   "execution_count": 29,
   "metadata": {
    "scrolled": false
   },
   "outputs": [
    {
     "data": {
      "text/plain": [
       "SGDClassifier(alpha=0.0001, average=False, class_weight=None,\n",
       "              early_stopping=False, epsilon=0.1, eta0=0.0, fit_intercept=True,\n",
       "              l1_ratio=0.15, learning_rate='optimal', loss='modified_huber',\n",
       "              max_iter=100000.0, n_iter_no_change=5, n_jobs=None, penalty='l2',\n",
       "              power_t=0.5, random_state=1, shuffle=True, tol=0.001,\n",
       "              validation_fraction=0.2, verbose=0, warm_start=False)"
      ]
     },
     "execution_count": 29,
     "metadata": {},
     "output_type": "execute_result"
    }
   ],
   "source": [
    "clf.fit(X_train_scaled, y_train)"
   ]
  },
  {
   "cell_type": "code",
   "execution_count": 30,
   "metadata": {
    "scrolled": false
   },
   "outputs": [],
   "source": [
    "from sklearn.model_selection import cross_val_score,cross_val_predict\n",
    "from sklearn.metrics import roc_curve,precision_score,recall_score,f1_score,\\\n",
    "            average_precision_score,precision_recall_curve,confusion_matrix \n",
    "\n",
    "# First find scores from fitting (no cv)\n",
    "scores = clf.decision_function( X_train_scaled)\n",
    "# use CV for better evaluation\n",
    "cv_scores = cross_val_score(clf, X_train_scaled, y_train, cv=3, scoring='accuracy')\n",
    "y_scores = cross_val_predict(clf, X_train_scaled, y_train, cv=3, method='decision_function')\n",
    "y_train_pred = cross_val_predict(clf, X_train_scaled, y_train, cv=3)\n",
    "Cij = confusion_matrix( y_train, y_train_pred)\n",
    "fpr,tpr,thresh = roc_curve( y_train, y_scores, pos_label='M')\n",
    "precision,recall,thresholds = precision_recall_curve( y_train, y_scores, pos_label='M')"
   ]
  },
  {
   "cell_type": "code",
   "execution_count": 31,
   "metadata": {
    "scrolled": false
   },
   "outputs": [
    {
     "name": "stdout",
     "output_type": "stream",
     "text": [
      "Training cross-validation scores:  [0.93233083 0.96240602 0.95454545]\n",
      "Training CV confusion matrix:  [[238  11]\n",
      " [  9 140]]\n"
     ]
    },
    {
     "data": {
      "image/png": "[encoded data removed]",
      "text/plain": [
       "<Figure size 720x720 with 1 Axes>"
      ]
     },
     "metadata": {
      "needs_background": "light"
     },
     "output_type": "display_data"
    },
    {
     "data": {
      "image/png": "[encoded data removed]",
      "text/plain": [
       "<Figure size 432x432 with 1 Axes>"
      ]
     },
     "metadata": {
      "needs_background": "light"
     },
     "output_type": "display_data"
    }
   ],
   "source": [
    "#print(\"Avg score (train, test): \",score,clf.score)\n",
    "print(\"Training cross-validation scores: \",cv_scores)\n",
    "print(\"Training CV confusion matrix: \",Cij)\n",
    "#print(\"Test scores: \",y_scores, scores)\n",
    "# print(\"Test confusion matrix: \",Cij_test)\n",
    "\n",
    "plt.figure(figsize=(10,10))\n",
    "plt.plot(thresholds,precision[:-1],'m-')\n",
    "plt.plot(thresholds,recall[:-1],'g-')\n",
    "plt.xlabel(\"Thresh\")\n",
    "plt.ylabel(\"Rate\")\n",
    "#plt.xscale('log')\n",
    "plt.xlim(-500,1000)\n",
    "plt.ylim(0.2,1.1)\n",
    "plt.legend([\"Precision\",\"Recall\"])\n",
    "#plt.annotate(\"Train set CV\",xy=(0.6,0.6),xycoords=\"axes fraction\")\n",
    "plt.show()\n",
    "plt.figure(figsize=(6,6))\n",
    "plt.plot(fpr,tpr,'k-')\n",
    "#plt.xscale('log')\n",
    "plt.xlabel(\"FPR\")\n",
    "plt.ylabel(\"TPR\")\n",
    "# plt.plot(thresh,tpr,'g-')\n",
    "# plt.annotate(\"Train set CV\",xy=(0.6,0.6),xycoords=\"axes fraction\")\n",
    "plt.show()\n",
    "# plt.figure()\n",
    "# plt.plot(thresh_test,fpr_test,'m-')\n",
    "# plt.plot(thresh_test,tpr_test,'g-')\n",
    "# plt.annotate(\"Test set\",xy=(0.6,0.6),xycoords=\"axes fraction\")\n",
    "# plt.xlabel(\"FPR\")\n",
    "# plt.ylabel(\"TPR\")\n",
    "# plt.show()"
   ]
  },
  {
   "cell_type": "markdown",
   "metadata": {},
   "source": [
    "### QUESTION: how do you predict probability of classification?"
   ]
  },
  {
   "cell_type": "markdown",
   "metadata": {},
   "source": [
    "### Evaluate classifier using the test set"
   ]
  },
  {
   "cell_type": "code",
   "execution_count": 32,
   "metadata": {
    "scrolled": false
   },
   "outputs": [
    {
     "name": "stdout",
     "output_type": "stream",
     "text": [
      "Test set accuracy score:  0.9649122807017544\n"
     ]
    }
   ],
   "source": [
    "y_test_pred = clf.predict(X_test_scaled)\n",
    "y_test_scores = clf.decision_function(X_test_scaled)\n",
    "accuracy_test = clf.score( X_test_scaled, y_test)\n",
    "#y_test_pred = cross_val_predict(clf, X_test_scaled, y_test, cv=3)\n",
    "Cij_test = confusion_matrix( y_test, y_test_pred)\n",
    "#cv_test_scores = cross_val_score(clf, X_test_scaled, y_test, cv=3, scoring='accuracy')\n",
    "#y_test_scores = cross_val_predict(clf, X_test_scaled, y_test, cv=3, method='decision_function')\n",
    "#y_test_pred = cross_val_predict(clf, X_test_scaled, y_test, cv=3)\n",
    "#Cij_test = confusion_matrix( y_test, y_test_pred)\n",
    "#fpr,tpr,thresh = roc_curve( y_test, y_test_scores, pos_label='M')\n",
    "#prec_test,rec_test,thresh_test = precision_recall_curve( y_test, y_test_scores, pos_label='M')\n",
    "\n",
    "#print(Cij_test)\n",
    "#print(\"CV accuracy scores on test set: \",cv_test_scores)\n",
    "print(\"Test set accuracy score: \",accuracy_test)\n"
   ]
  },
  {
   "cell_type": "code",
   "execution_count": 33,
   "metadata": {},
   "outputs": [],
   "source": [
    "# plt.figure(figsize=(10,10))\n",
    "# plt.plot(thresh_test,prec_test[:-1],'m-',lw=1.5)\n",
    "# plt.plot(thresh_test,rec_test[:-1],'g-',lw=1.5)\n",
    "# plt.xlabel(\"Thresh\")\n",
    "# plt.ylabel(\"Rate\")\n",
    "# #plt.xscale('log')\n",
    "# plt.xlim(-500,1000)\n",
    "# #plt.ylim(0.2,1.1)\n",
    "# plt.legend([\"Precision\",\"Recall\"])\n",
    "# #plt.annotate(\"Train set CV\",xy=(0.6,0.6),xycoords=\"axes fraction\")\n",
    "# plt.show()"
   ]
  },
  {
   "cell_type": "markdown",
   "metadata": {},
   "source": [
    "### TEST SET RESULTS: \n",
    "\n",
    "CONFUSION MATRIX:"
   ]
  },
  {
   "cell_type": "code",
   "execution_count": 34,
   "metadata": {
    "raw_mimetype": "text/latex",
    "scrolled": true
   },
   "outputs": [],
   "source": [
    "from IPython.display import display, Math, Markdown\n",
    "Cij_test_str=Math(r'\\begin{equation} C_{ij}^{test} = \\begin{bmatrix} %i & %i \\\\ %i & %i \\end{bmatrix} \\end{equation}'%(Cij_test[0,0],Cij_test[0,1],Cij_test[1,0],Cij_test[1,1]))\n",
    "Cij_train_str=Math(r'\\begin{equation} C_{ij}^{train} = \\begin{bmatrix} %i & %i \\\\ %i & %i \\end{bmatrix} \\end{equation}'%(Cij[0,0],Cij[0,1],Cij[1,0],Cij[1,1]))\n",
    "\n"
   ]
  },
  {
   "cell_type": "code",
   "execution_count": 35,
   "metadata": {},
   "outputs": [
    {
     "data": {
      "text/latex": [
       "$\\displaystyle \\begin{equation} C_{ij}^{train} = \\begin{bmatrix} 238 & 11 \\\\ 9 & 140 \\end{bmatrix} \\end{equation}$"
      ],
      "text/plain": [
       "<IPython.core.display.Math object>"
      ]
     },
     "metadata": {},
     "output_type": "display_data"
    },
    {
     "data": {
      "text/latex": [
       "$\\displaystyle \\begin{equation} C_{ij}^{test} = \\begin{bmatrix} 106 & 2 \\\\ 4 & 59 \\end{bmatrix} \\end{equation}$"
      ],
      "text/plain": [
       "<IPython.core.display.Math object>"
      ]
     },
     "metadata": {},
     "output_type": "display_data"
    }
   ],
   "source": [
    "display(Cij_train_str)\n",
    "display(Cij_test_str)"
   ]
  },
  {
   "cell_type": "code",
   "execution_count": null,
   "metadata": {},
   "outputs": [],
   "source": []
  }
 ],
 "metadata": {
  "kernelspec": {
   "display_name": "Python [conda env:mlpy] *",
   "language": "python",
   "name": "conda-env-mlpy-py"
  },
  "language_info": {
   "codemirror_mode": {
    "name": "ipython",
    "version": 3
   },
   "file_extension": ".py",
   "mimetype": "text/x-python",
   "name": "python",
   "nbconvert_exporter": "python",
   "pygments_lexer": "ipython3",
   "version": "3.7.6"
  }
 },
 "nbformat": 4,
 "nbformat_minor": 4
}
