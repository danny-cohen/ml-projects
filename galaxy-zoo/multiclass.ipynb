{
 "cells": [
  {
   "cell_type": "markdown",
   "metadata": {},
   "source": [
    "# Multilabel classification on galaxy zoo dataset\n",
    "\n",
    "https://www.kaggle.com/c/galaxy-zoo-the-galaxy-challenge/overview\n",
    "\n",
    "### Data includes images with unique IDs (jpg files) and a table containing the probabilities of each class in the columns\n",
    "\n",
    "\n"
   ]
  },
  {
   "cell_type": "markdown",
   "metadata": {},
   "source": [
    "### Read table with classes"
   ]
  },
  {
   "cell_type": "code",
   "execution_count": 2,
   "metadata": {},
   "outputs": [
    {
     "data": {
      "text/html": [
       "<div>\n",
       "<style scoped>\n",
       "    .dataframe tbody tr th:only-of-type {\n",
       "        vertical-align: middle;\n",
       "    }\n",
       "\n",
       "    .dataframe tbody tr th {\n",
       "        vertical-align: top;\n",
       "    }\n",
       "\n",
       "    .dataframe thead th {\n",
       "        text-align: right;\n",
       "    }\n",
       "</style>\n",
       "<table border=\"1\" class=\"dataframe\">\n",
       "  <thead>\n",
       "    <tr style=\"text-align: right;\">\n",
       "      <th></th>\n",
       "      <th>Class1.1</th>\n",
       "      <th>Class1.2</th>\n",
       "      <th>Class1.3</th>\n",
       "      <th>Class2.1</th>\n",
       "      <th>Class2.2</th>\n",
       "      <th>Class3.1</th>\n",
       "      <th>Class3.2</th>\n",
       "      <th>Class4.1</th>\n",
       "      <th>Class4.2</th>\n",
       "      <th>Class5.1</th>\n",
       "      <th>...</th>\n",
       "      <th>Class9.3</th>\n",
       "      <th>Class10.1</th>\n",
       "      <th>Class10.2</th>\n",
       "      <th>Class10.3</th>\n",
       "      <th>Class11.1</th>\n",
       "      <th>Class11.2</th>\n",
       "      <th>Class11.3</th>\n",
       "      <th>Class11.4</th>\n",
       "      <th>Class11.5</th>\n",
       "      <th>Class11.6</th>\n",
       "    </tr>\n",
       "    <tr>\n",
       "      <th>GalaxyID</th>\n",
       "      <th></th>\n",
       "      <th></th>\n",
       "      <th></th>\n",
       "      <th></th>\n",
       "      <th></th>\n",
       "      <th></th>\n",
       "      <th></th>\n",
       "      <th></th>\n",
       "      <th></th>\n",
       "      <th></th>\n",
       "      <th></th>\n",
       "      <th></th>\n",
       "      <th></th>\n",
       "      <th></th>\n",
       "      <th></th>\n",
       "      <th></th>\n",
       "      <th></th>\n",
       "      <th></th>\n",
       "      <th></th>\n",
       "      <th></th>\n",
       "      <th></th>\n",
       "    </tr>\n",
       "  </thead>\n",
       "  <tbody>\n",
       "    <tr>\n",
       "      <th>100008</th>\n",
       "      <td>0.383147</td>\n",
       "      <td>0.616853</td>\n",
       "      <td>0.000000</td>\n",
       "      <td>0.000000</td>\n",
       "      <td>0.616853</td>\n",
       "      <td>0.038452</td>\n",
       "      <td>0.578401</td>\n",
       "      <td>0.418398</td>\n",
       "      <td>0.198455</td>\n",
       "      <td>0.0</td>\n",
       "      <td>...</td>\n",
       "      <td>0.000000</td>\n",
       "      <td>0.279952</td>\n",
       "      <td>0.138445</td>\n",
       "      <td>0.000000</td>\n",
       "      <td>0.000000</td>\n",
       "      <td>0.092886</td>\n",
       "      <td>0.0</td>\n",
       "      <td>0.0</td>\n",
       "      <td>0.0</td>\n",
       "      <td>0.325512</td>\n",
       "    </tr>\n",
       "    <tr>\n",
       "      <th>100023</th>\n",
       "      <td>0.327001</td>\n",
       "      <td>0.663777</td>\n",
       "      <td>0.009222</td>\n",
       "      <td>0.031178</td>\n",
       "      <td>0.632599</td>\n",
       "      <td>0.467370</td>\n",
       "      <td>0.165229</td>\n",
       "      <td>0.591328</td>\n",
       "      <td>0.041271</td>\n",
       "      <td>0.0</td>\n",
       "      <td>...</td>\n",
       "      <td>0.018764</td>\n",
       "      <td>0.000000</td>\n",
       "      <td>0.131378</td>\n",
       "      <td>0.459950</td>\n",
       "      <td>0.000000</td>\n",
       "      <td>0.591328</td>\n",
       "      <td>0.0</td>\n",
       "      <td>0.0</td>\n",
       "      <td>0.0</td>\n",
       "      <td>0.000000</td>\n",
       "    </tr>\n",
       "    <tr>\n",
       "      <th>100053</th>\n",
       "      <td>0.765717</td>\n",
       "      <td>0.177352</td>\n",
       "      <td>0.056931</td>\n",
       "      <td>0.000000</td>\n",
       "      <td>0.177352</td>\n",
       "      <td>0.000000</td>\n",
       "      <td>0.177352</td>\n",
       "      <td>0.000000</td>\n",
       "      <td>0.177352</td>\n",
       "      <td>0.0</td>\n",
       "      <td>...</td>\n",
       "      <td>0.000000</td>\n",
       "      <td>0.000000</td>\n",
       "      <td>0.000000</td>\n",
       "      <td>0.000000</td>\n",
       "      <td>0.000000</td>\n",
       "      <td>0.000000</td>\n",
       "      <td>0.0</td>\n",
       "      <td>0.0</td>\n",
       "      <td>0.0</td>\n",
       "      <td>0.000000</td>\n",
       "    </tr>\n",
       "    <tr>\n",
       "      <th>100078</th>\n",
       "      <td>0.693377</td>\n",
       "      <td>0.238564</td>\n",
       "      <td>0.068059</td>\n",
       "      <td>0.000000</td>\n",
       "      <td>0.238564</td>\n",
       "      <td>0.109493</td>\n",
       "      <td>0.129071</td>\n",
       "      <td>0.189098</td>\n",
       "      <td>0.049466</td>\n",
       "      <td>0.0</td>\n",
       "      <td>...</td>\n",
       "      <td>0.000000</td>\n",
       "      <td>0.094549</td>\n",
       "      <td>0.000000</td>\n",
       "      <td>0.094549</td>\n",
       "      <td>0.189098</td>\n",
       "      <td>0.000000</td>\n",
       "      <td>0.0</td>\n",
       "      <td>0.0</td>\n",
       "      <td>0.0</td>\n",
       "      <td>0.000000</td>\n",
       "    </tr>\n",
       "    <tr>\n",
       "      <th>100090</th>\n",
       "      <td>0.933839</td>\n",
       "      <td>0.000000</td>\n",
       "      <td>0.066161</td>\n",
       "      <td>0.000000</td>\n",
       "      <td>0.000000</td>\n",
       "      <td>0.000000</td>\n",
       "      <td>0.000000</td>\n",
       "      <td>0.000000</td>\n",
       "      <td>0.000000</td>\n",
       "      <td>0.0</td>\n",
       "      <td>...</td>\n",
       "      <td>0.000000</td>\n",
       "      <td>0.000000</td>\n",
       "      <td>0.000000</td>\n",
       "      <td>0.000000</td>\n",
       "      <td>0.000000</td>\n",
       "      <td>0.000000</td>\n",
       "      <td>0.0</td>\n",
       "      <td>0.0</td>\n",
       "      <td>0.0</td>\n",
       "      <td>0.000000</td>\n",
       "    </tr>\n",
       "  </tbody>\n",
       "</table>\n",
       "<p>5 rows × 37 columns</p>\n",
       "</div>"
      ],
      "text/plain": [
       "          Class1.1  Class1.2  Class1.3  Class2.1  Class2.2  Class3.1  \\\n",
       "GalaxyID                                                               \n",
       "100008    0.383147  0.616853  0.000000  0.000000  0.616853  0.038452   \n",
       "100023    0.327001  0.663777  0.009222  0.031178  0.632599  0.467370   \n",
       "100053    0.765717  0.177352  0.056931  0.000000  0.177352  0.000000   \n",
       "100078    0.693377  0.238564  0.068059  0.000000  0.238564  0.109493   \n",
       "100090    0.933839  0.000000  0.066161  0.000000  0.000000  0.000000   \n",
       "\n",
       "          Class3.2  Class4.1  Class4.2  Class5.1  ...  Class9.3  Class10.1  \\\n",
       "GalaxyID                                          ...                        \n",
       "100008    0.578401  0.418398  0.198455       0.0  ...  0.000000   0.279952   \n",
       "100023    0.165229  0.591328  0.041271       0.0  ...  0.018764   0.000000   \n",
       "100053    0.177352  0.000000  0.177352       0.0  ...  0.000000   0.000000   \n",
       "100078    0.129071  0.189098  0.049466       0.0  ...  0.000000   0.094549   \n",
       "100090    0.000000  0.000000  0.000000       0.0  ...  0.000000   0.000000   \n",
       "\n",
       "          Class10.2  Class10.3  Class11.1  Class11.2  Class11.3  Class11.4  \\\n",
       "GalaxyID                                                                     \n",
       "100008     0.138445   0.000000   0.000000   0.092886        0.0        0.0   \n",
       "100023     0.131378   0.459950   0.000000   0.591328        0.0        0.0   \n",
       "100053     0.000000   0.000000   0.000000   0.000000        0.0        0.0   \n",
       "100078     0.000000   0.094549   0.189098   0.000000        0.0        0.0   \n",
       "100090     0.000000   0.000000   0.000000   0.000000        0.0        0.0   \n",
       "\n",
       "          Class11.5  Class11.6  \n",
       "GalaxyID                        \n",
       "100008          0.0   0.325512  \n",
       "100023          0.0   0.000000  \n",
       "100053          0.0   0.000000  \n",
       "100078          0.0   0.000000  \n",
       "100090          0.0   0.000000  \n",
       "\n",
       "[5 rows x 37 columns]"
      ]
     },
     "execution_count": 2,
     "metadata": {},
     "output_type": "execute_result"
    }
   ],
   "source": [
    "import matplotlib.pyplot as plt\n",
    "import numpy as np\n",
    "import os \n",
    "import tarfile\n",
    "import urllib \n",
    "import pandas as pd\n",
    "import seaborn as sns\n",
    "from glob import glob\n",
    " \n",
    "# Use pandas to retrieve data file\n",
    "#url = '' # use to fetch data file each time\n",
    "\n",
    "# Read in CSV file with probabilities\n",
    "probs = pd.read_csv(\"training_solutions_rev1.csv\",index_col=0)\n",
    "probs.head()"
   ]
  },
  {
   "cell_type": "markdown",
   "metadata": {},
   "source": [
    "## Read images"
   ]
  },
  {
   "cell_type": "code",
   "execution_count": 10,
   "metadata": {},
   "outputs": [
    {
     "name": "stdout",
     "output_type": "stream",
     "text": [
      "Help on function imread in module skimage.io._io:\n",
      "\n",
      "imread(fname, as_gray=False, plugin=None, **plugin_args)\n",
      "    Load an image from file.\n",
      "    \n",
      "    Parameters\n",
      "    ----------\n",
      "    fname : string\n",
      "        Image file name, e.g. ``test.jpg`` or URL.\n",
      "    as_gray : bool, optional\n",
      "        If True, convert color images to gray-scale (64-bit floats).\n",
      "        Images that are already in gray-scale format are not converted.\n",
      "    plugin : str, optional\n",
      "        Name of plugin to use.  By default, the different plugins are\n",
      "        tried (starting with imageio) until a suitable\n",
      "        candidate is found.  If not given and fname is a tiff file, the\n",
      "        tifffile plugin will be used.\n",
      "    \n",
      "    Other Parameters\n",
      "    ----------------\n",
      "    plugin_args : keywords\n",
      "        Passed to the given plugin.\n",
      "    \n",
      "    Returns\n",
      "    -------\n",
      "    img_array : ndarray\n",
      "        The different color bands/channels are stored in the\n",
      "        third dimension, such that a gray-image is MxN, an\n",
      "        RGB-image MxNx3 and an RGBA-image MxNx4.\n",
      "\n",
      "['873932', '523554', '139923', '842537', '896000']\n"
     ]
    },
    {
     "ename": "NameError",
     "evalue": "name 'imlist' is not defined",
     "output_type": "error",
     "traceback": [
      "\u001b[0;31m---------------------------------------------------------------------------\u001b[0m",
      "\u001b[0;31mNameError\u001b[0m                                 Traceback (most recent call last)",
      "\u001b[0;32m<ipython-input-10-9998f66fedd2>\u001b[0m in \u001b[0;36m<module>\u001b[0;34m\u001b[0m\n\u001b[1;32m      8\u001b[0m \u001b[0mprint\u001b[0m\u001b[0;34m(\u001b[0m\u001b[0mimix\u001b[0m\u001b[0;34m[\u001b[0m\u001b[0;36m0\u001b[0m\u001b[0;34m:\u001b[0m\u001b[0;36m5\u001b[0m\u001b[0;34m]\u001b[0m\u001b[0;34m)\u001b[0m\u001b[0;34m\u001b[0m\u001b[0;34m\u001b[0m\u001b[0m\n\u001b[1;32m      9\u001b[0m \u001b[0mfig\u001b[0m\u001b[0;34m=\u001b[0m\u001b[0mplt\u001b[0m\u001b[0;34m.\u001b[0m\u001b[0mfigure\u001b[0m\u001b[0;34m(\u001b[0m\u001b[0mfigsize\u001b[0m\u001b[0;34m=\u001b[0m\u001b[0;34m(\u001b[0m\u001b[0;36m6\u001b[0m\u001b[0;34m,\u001b[0m\u001b[0;36m6\u001b[0m\u001b[0;34m)\u001b[0m\u001b[0;34m)\u001b[0m\u001b[0;34m\u001b[0m\u001b[0;34m\u001b[0m\u001b[0m\n\u001b[0;32m---> 10\u001b[0;31m \u001b[0mplt\u001b[0m\u001b[0;34m.\u001b[0m\u001b[0mimshow\u001b[0m\u001b[0;34m(\u001b[0m\u001b[0mimlist\u001b[0m\u001b[0;34m[\u001b[0m\u001b[0;36m0\u001b[0m\u001b[0;34m]\u001b[0m\u001b[0;34m)\u001b[0m\u001b[0;34m\u001b[0m\u001b[0;34m\u001b[0m\u001b[0m\n\u001b[0m",
      "\u001b[0;31mNameError\u001b[0m: name 'imlist' is not defined"
     ]
    },
    {
     "data": {
      "text/plain": [
       "<Figure size 432x432 with 0 Axes>"
      ]
     },
     "metadata": {},
     "output_type": "display_data"
    }
   ],
   "source": [
    "# display image\n",
    "from skimage import data,io,filters\n",
    "url = \"\"\n",
    "imfiles = glob(\"images_training_rev1/*.jpg\")\n",
    "#print(imfiles)\n",
    "help(io.imread)#(imfiles)\n",
    "#imlist=[io.imread(f) for f in imfiles]\n",
    "#imix = [f.split('/')[-1][:-4] for f in imfiles]\n",
    "print(imix[0:5])\n",
    "fig=plt.figure(figsize=(6,6))\n",
    "plt.imshow(imlist[0])"
   ]
  },
  {
   "cell_type": "markdown",
   "metadata": {},
   "source": [
    "## Add image pre-processing here"
   ]
  },
  {
   "cell_type": "markdown",
   "metadata": {},
   "source": [
    "# Split into training, test set "
   ]
  },
  {
   "cell_type": "markdown",
   "metadata": {},
   "source": [
    "##### Use ```sklearn.model_selection.train_test_split``` or do stratified sampling with ```StratifiedShuffleSplit```?"
   ]
  },
  {
   "cell_type": "code",
   "execution_count": null,
   "metadata": {},
   "outputs": [],
   "source": [
    "from sklearn.model_selection import train_test_split\n",
    "#from sklearn.base import clone \n",
    "\n",
    "X_train, X_test, y_train, y_test = train_test_split(cancer.copy().drop(\"diagnosis\",axis=1), cancer.copy().diagnosis,\\\n",
    "                                                    test_size=0.3, shuffle=True, random_state=1)\n",
    "#train_set, test_test = StratifiedShuffleSplit(df, test_size=0.25, random_state=42)\n"
   ]
  },
  {
   "cell_type": "markdown",
   "metadata": {},
   "source": [
    "##### Use ```sklearn.model_selection.train_test_split``` or do stratified sampling with ```StratifiedShuffleSplit```?"
   ]
  },
  {
   "cell_type": "code",
   "execution_count": null,
   "metadata": {},
   "outputs": [],
   "source": []
  },
  {
   "cell_type": "markdown",
   "metadata": {},
   "source": [
    "\n",
    "#### Stochastic Gradient Descent classifier ```sklearn.linear_model.SGDClassifier```: https://scikit-learn.org/stable/modules/generated/sklearn.linear_model.SGDClassifier.html#sklearn.linear_model.SGDClassifier\n",
    "\n",
    "Set ```loss=\"hinge\"``` fits a linear SVC (```sklearn.svm.LinearSVC```) but doesn't allow for probability estimates. Use ```loss=\"log\"``` or ```\"modified_huber\"```"
   ]
  },
  {
   "cell_type": "code",
   "execution_count": null,
   "metadata": {},
   "outputs": [],
   "source": [
    "from sklearn.linear_model import SGDClassifier\n",
    "\n",
    "clf = SGDClassifier(loss='modified_huber',max_iter=1e5,tol=1.0e-3,\\\n",
    "                   validation_fraction=0.3,early_stopping=True,shuffle=True,average=True)"
   ]
  },
  {
   "cell_type": "markdown",
   "metadata": {},
   "source": [
    "#### SGD is sensitive to feature scaling... scale so features have mean=0 and variance=0 using ```StandardScaler()```"
   ]
  },
  {
   "cell_type": "code",
   "execution_count": null,
   "metadata": {},
   "outputs": [],
   "source": [
    "from sklearn.preprocessing import StandardScaler\n",
    "scaler = StandardScaler().fit(X_train)\n",
    "X_train_scaled = scaler.transform(X_train)\n",
    "X_test_scaled = scaler.transform(X_test)"
   ]
  },
  {
   "cell_type": "markdown",
   "metadata": {},
   "source": [
    "#### Fit SGD classifier to training set, and do cross-validation:\n",
    "https://scikit-learn.org/stable/modules/cross_validation.html#cross-validation"
   ]
  },
  {
   "cell_type": "code",
   "execution_count": null,
   "metadata": {},
   "outputs": [],
   "source": [
    "clf.fit(X_train_scaled, y_train)"
   ]
  },
  {
   "cell_type": "code",
   "execution_count": null,
   "metadata": {},
   "outputs": [],
   "source": [
    "from sklearn.model_selection import cross_val_score,cross_val_predict\n",
    "from sklearn.metrics import roc_curve,precision_score,recall_score,f1_score,\\\n",
    "            average_precision_score,precision_recall_curve,confusion_matrix \n",
    "\n",
    "# First find scores from fitting (no cv)\n",
    "scores = clf.decision_function( X_train_scaled)\n",
    "# use CV for better evaluation\n",
    "cv_scores = cross_val_score(clf, X_train_scaled, y_train, cv=3, scoring='accuracy')\n",
    "y_scores = cross_val_predict(clf, X_train_scaled, y_train, cv=3, method='decision_function')\n",
    "y_train_pred = cross_val_predict(clf, X_train_scaled, y_train, cv=3)\n",
    "Cij = confusion_matrix( y_train, y_train_pred)\n",
    "fpr,tpr,thresh = roc_curve( y_train, y_scores, pos_label='M')\n",
    "precision,recall,thresholds = precision_recall_curve( y_train, y_scores, pos_label='M')"
   ]
  },
  {
   "cell_type": "code",
   "execution_count": null,
   "metadata": {},
   "outputs": [],
   "source": [
    "#print(\"Avg score (train, test): \",score,clf.score)\n",
    "print(\"Training cross-validation scores: \",cv_scores)\n",
    "print(\"Training CV confusion matrix: \",Cij)\n",
    "#print(\"Test scores: \",y_scores, scores)\n",
    "# print(\"Test confusion matrix: \",Cij_test)\n",
    "\n",
    "plt.figure(figsize=(10,10))\n",
    "plt.plot(thresholds,precision[:-1],'m-')\n",
    "plt.plot(thresholds,recall[:-1],'g-')\n",
    "plt.xlabel(\"Thresh\")\n",
    "plt.ylabel(\"Rate\")\n",
    "#plt.xscale('log')\n",
    "plt.xlim(-500,1000)\n",
    "plt.ylim(0.2,1.1)\n",
    "plt.legend([\"Precision\",\"Recall\"])\n",
    "#plt.annotate(\"Train set CV\",xy=(0.6,0.6),xycoords=\"axes fraction\")\n",
    "plt.show()\n",
    "plt.figure(figsize=(6,6))\n",
    "plt.plot(fpr,tpr,'k-')\n",
    "plt.xscale('log')\n",
    "plt.xlabel(\"FPR\")\n",
    "plt.ylabel(\"TPR\")\n",
    "# plt.plot(thresh,tpr,'g-')\n",
    "# plt.annotate(\"Train set CV\",xy=(0.6,0.6),xycoords=\"axes fraction\")\n",
    "plt.show()\n",
    "# plt.figure()\n",
    "# plt.plot(thresh_test,fpr_test,'m-')\n",
    "# plt.plot(thresh_test,tpr_test,'g-')\n",
    "# plt.annotate(\"Test set\",xy=(0.6,0.6),xycoords=\"axes fraction\")\n",
    "# plt.xlabel(\"FPR\")\n",
    "# plt.ylabel(\"TPR\")\n",
    "# plt.show()"
   ]
  },
  {
   "cell_type": "markdown",
   "metadata": {},
   "source": [
    "### QUESTION: how do you predict probability of classification?"
   ]
  },
  {
   "cell_type": "markdown",
   "metadata": {},
   "source": [
    "### Evaluate classifier using the test set"
   ]
  },
  {
   "cell_type": "code",
   "execution_count": null,
   "metadata": {},
   "outputs": [],
   "source": [
    "y_test_pred = clf.predict(X_test_scaled)\n",
    "y_test_scores = clf.decision_function(X_test_scaled)\n",
    "y_test_score = clf.score( X_test_scaled, y_test)\n",
    "\n",
    "Cij_test = confusion_matrix( y_test, y_test_pred)\n",
    "cv_test_scores = cross_val_score(clf, X_test_scaled, y_test, cv=3, scoring='accuracy')\n",
    "\n",
    "print(Cij_test)\n",
    "print(cv_test_scores)\n",
    "print(\" \".join(Cij_test.ravel().astype('str')))"
   ]
  },
  {
   "cell_type": "markdown",
   "metadata": {},
   "source": [
    "### TEST SET RESULTS: \n",
    "\n",
    "CONFUSION MATRIX:"
   ]
  },
  {
   "cell_type": "code",
   "execution_count": null,
   "metadata": {
    "raw_mimetype": "text/latex"
   },
   "outputs": [],
   "source": [
    "from IPython.display import display, Math\n",
    "display(Math(r'%i %i \\\\ %i %i'.format(Cij_test)))#(Cij_test[0,0],Cij_test[0,1],Cij_test[1,0],Cij_test[1,1])))"
   ]
  },
  {
   "cell_type": "code",
   "execution_count": null,
   "metadata": {},
   "outputs": [],
   "source": []
  }
 ],
 "metadata": {
  "kernelspec": {
   "display_name": "Python [conda env:mlpy] *",
   "language": "python",
   "name": "conda-env-mlpy-py"
  },
  "language_info": {
   "codemirror_mode": {
    "name": "ipython",
    "version": 3
   },
   "file_extension": ".py",
   "mimetype": "text/x-python",
   "name": "python",
   "nbconvert_exporter": "python",
   "pygments_lexer": "ipython3",
   "version": "3.7.6"
  }
 },
 "nbformat": 4,
 "nbformat_minor": 4
}
