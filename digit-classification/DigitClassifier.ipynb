{
 "cells": [
  {
   "cell_type": "markdown",
   "metadata": {},
   "source": [
    "# Digit Recognizer (Multiclass Classification)\n",
    "\n",
    "https://www.kaggle.com/c/digit-recognizer/data\n",
    "\n",
    "__Data__\n",
    "\n",
    "train.csv: training set\n",
    "\n",
    "test.csv: test set\n",
    "\n",
    "\n"
   ]
  },
  {
   "cell_type": "markdown",
   "metadata": {},
   "source": [
    "### Read in training and test data (consisting of images and labels)"
   ]
  },
  {
   "cell_type": "code",
   "execution_count": 1,
   "metadata": {},
   "outputs": [
    {
     "name": "stdout",
     "output_type": "stream",
     "text": [
      "Train set:\n",
      "\n",
      "<class 'pandas.core.frame.DataFrame'>\n",
      "RangeIndex: 42000 entries, 0 to 41999\n",
      "Columns: 785 entries, label to pixel783\n",
      "dtypes: uint8(785)\n",
      "memory usage: 31.4 MB\n",
      "\n",
      "\n",
      "\n",
      "Test set:\n",
      "\n",
      "<class 'pandas.core.frame.DataFrame'>\n",
      "RangeIndex: 28000 entries, 0 to 27999\n",
      "Columns: 784 entries, pixel0 to pixel783\n",
      "dtypes: uint8(784)\n",
      "memory usage: 20.9 MB\n",
      "\n",
      "\n"
     ]
    }
   ],
   "source": [
    "import matplotlib as mpl\n",
    "%matplotlib inline\n",
    "import matplotlib.pyplot as plt\n",
    "import matplotlib.image as mplimg \n",
    "import numpy as np\n",
    "import os \n",
    "import tarfile\n",
    "import urllib \n",
    "import pandas as pd\n",
    "import seaborn as sns\n",
    "from glob import glob\n",
    "from tqdm import tqdm\n",
    " \n",
    "# Use pandas to retrieve data file\n",
    "#url = '' # use to fetch data file each time\n",
    "\n",
    "# Read in CSV file with probabilities\n",
    "#help(pd.read_csv)\n",
    "traindata = pd.read_csv(\"train.csv\",dtype=np.uint8)\n",
    "testdata = pd.read_csv(\"test.csv\",dtype=np.uint8)\n",
    "\n",
    "# Check train/test data frame headers, columns\n",
    "print(\"Train set:\\n\")\n",
    "traindata.info()\n",
    "print('\\n\\n')\n",
    "\n",
    "print(\"Test set:\\n\")\n",
    "testdata.info()\n",
    "print('\\n')\n",
    "\n",
    "# Define train data: y=target (labels) and X=features (pixel values)\n",
    "y_train=traindata.label\n",
    "X_train=traindata.loc[:,'pixel0':'pixel783']\n",
    "\n",
    "# Define test data: just pixel values \n",
    "X_test=testdata.loc[:,'pixel0':'pixel783']\n"
   ]
  },
  {
   "cell_type": "markdown",
   "metadata": {},
   "source": [
    "### Define some functions for dealing with the digits as images"
   ]
  },
  {
   "cell_type": "code",
   "execution_count": null,
   "metadata": {},
   "outputs": [],
   "source": [
    "# # reshape list of flattened (1D) images into list of 2D images\n",
    "# def make_digit_images(x,image_size=(28,28)):\n",
    "\n",
    "#     n_sample=x.shape[0]\n",
    "    \n",
    "#     x_2D = np.reshape(x, (n_sample,)+image_size)\n",
    "    \n",
    "#     return x_2D\n",
    "\n",
    "\n",
    "# function to display digits as 2D images given X, with flattened images\n",
    "def plot_digits(x,image_size=(28,28)):\n",
    "    \n",
    "    n_sample=x.shape[0]\n",
    "    \n",
    "    x_2D = np.reshape(x, (n_sample,)+image_size)\n",
    "\n",
    "    ncol=10\n",
    "    nrow=n_sample//ncol\n",
    "    \n",
    "    plt.figure(1, (ncol*1.2,nrow*1.2))\n",
    "    for i in range(n_sample):\n",
    "        ax_i=plt.subplot(nrow,ncol,i+1)\n",
    "        ax_i.imshow(x_2D[i,:,:],cmap='Greys')\n",
    "        ax_i.set_xticklabels([])\n",
    "        ax_i.set_yticklabels([])\n",
    "     \n",
    "    plt.subplots_adjust(wspace=0,hspace=0)\n",
    "        \n",
    "    plt.show()\n",
    "    \n",
    "# function to "
   ]
  },
  {
   "cell_type": "code",
   "execution_count": null,
   "metadata": {},
   "outputs": [],
   "source": [
    "plot_digits(X_train.values[:100,:])"
   ]
  },
  {
   "cell_type": "markdown",
   "metadata": {},
   "source": [
    "__Note__: The pixel values are already on same scale so no scaling should be required for $\\mathbf{X}$ (values between 0-255)"
   ]
  },
  {
   "cell_type": "markdown",
   "metadata": {},
   "source": [
    "### Using Stochastic Gradient Descent Classifier ```sklearn.linear_model.SGDClassifier``` (capable of multi-class)\n",
    "\n",
    "Loss function should be ```log``` or ```modified_huber```"
   ]
  },
  {
   "cell_type": "code",
   "execution_count": null,
   "metadata": {},
   "outputs": [],
   "source": [
    "from sklearn.linear_model import SGDClassifier\n",
    "\n",
    "sgd_clf = SGDClassifier(random_state=42,shuffle=True,loss='modified_huber',max_iter=1000,tol=1.0e-2)#learning_rate='constant')\n",
    "\n",
    "sgd_clf.fit(X_train, y_train)\n"
   ]
  },
  {
   "cell_type": "code",
   "execution_count": null,
   "metadata": {},
   "outputs": [],
   "source": [
    "sgd_clf.classes_,sgd_clf.coef_"
   ]
  },
  {
   "cell_type": "markdown",
   "metadata": {},
   "source": [
    "### Cross-validation to evaluate accuracy"
   ]
  },
  {
   "cell_type": "code",
   "execution_count": null,
   "metadata": {},
   "outputs": [],
   "source": [
    "from sklearn.model_selection import cross_val_score, cross_val_predict\n",
    "from sklearn.metrics import confusion_matrix\n",
    "\n",
    "cv_scores=cross_val_score(sgd_clf, X_train, y_train, cv=3, scoring=\"accuracy\")\n",
    "\n",
    "y_train_pred = cross_val_predict(sgd_clf, X_train, y_train, cv=3, n_jobs=3)\n",
    "\n",
    "C_matrix = confusion_matrix(y_train, y_train_pred)"
   ]
  },
  {
   "cell_type": "code",
   "execution_count": null,
   "metadata": {},
   "outputs": [],
   "source": [
    "print(\"CV accuracy scores:\")\n",
    "[print(\"%.1f PCT\"%(cv*100)) for cv in cv_scores]\n",
    "\n",
    "print(\"Confusion matrix: \")\n",
    "print(C_matrix)"
   ]
  },
  {
   "cell_type": "code",
   "execution_count": null,
   "metadata": {},
   "outputs": [],
   "source": [
    "def plot_confusion_matrix(matrix):\n",
    "    \"\"\"If you prefer color and a colorbar\"\"\"\n",
    "    fig = plt.figure(figsize=(8,8))\n",
    "    ax = fig.add_subplot(111)\n",
    "    cax = ax.matshow(matrix)\n",
    "    fig.colorbar(cax)"
   ]
  },
  {
   "cell_type": "code",
   "execution_count": null,
   "metadata": {},
   "outputs": [],
   "source": [
    "plot_confusion_matrix(C_matrix)"
   ]
  },
  {
   "cell_type": "markdown",
   "metadata": {},
   "source": [
    "### Plot matrix of error rates"
   ]
  },
  {
   "cell_type": "code",
   "execution_count": null,
   "metadata": {},
   "outputs": [],
   "source": [
    "# display error matrix (): normalize by row and fill the correct predictions (diagnols) with zeros\n",
    "row_sums =C_matrix.sum(axis=1, keepdims=True)\n",
    "norm_C_matrix =C_matrix / row_sums\n",
    "np.fill_diagonal(norm_C_matrix, 0)\n",
    "plot_confusion_matrix(norm_C_matrix)"
   ]
  },
  {
   "cell_type": "code",
   "execution_count": null,
   "metadata": {},
   "outputs": [],
   "source": [
    "cl_a, cl_b = 5, 8\n",
    "X_aa = X_train.values[(y_train.values == cl_a) & (y_train_pred == cl_a), :]\n",
    "X_ab = X_train.values[(y_train.values == cl_a) & (y_train_pred == cl_b), :]\n",
    "X_ba = X_train.values[(y_train.values == cl_b) & (y_train_pred == cl_a), :]\n",
    "X_bb = X_train.values[(y_train.values == cl_b) & (y_train_pred == cl_b), :]\n",
    "\n",
    "#plt.figure(figsize=(8,8))\n",
    "print(\"Correctly predicted: \")\n",
    "plot_digits(X_aa[:40,:])\n",
    "\n",
    "plot_digits(X_bb[:40,:])\n",
    "\n",
    "print(\"Wrongly predicted: \")\n",
    "\n",
    "plot_digits(X_ab[:40,:])\n",
    "\n",
    "plot_digits(X_ba[:40,:])\n",
    "\n",
    "#plot_digits(X_bb[:30,:])\n",
    "#save_fig(\"error_analysis_digits_plot\")\n"
   ]
  },
  {
   "cell_type": "markdown",
   "metadata": {},
   "source": [
    "## Achieving a more accurate classifier: KNN model, grid search CV to find optimal parameters, and preprocess images"
   ]
  },
  {
   "cell_type": "markdown",
   "metadata": {},
   "source": [
    "First try ```KNeighborsClassifier``` with default paramters, no scaling or pre-processing"
   ]
  },
  {
   "cell_type": "code",
   "execution_count": 12,
   "metadata": {},
   "outputs": [
    {
     "name": "stdout",
     "output_type": "stream",
     "text": [
      "(42000, 28, 28)\n"
     ]
    },
    {
     "data": {
      "text/plain": [
       "(array([15822.,  1156.,  1190.,  1018.,  1048.,  1108.,  1182.,  1345.,\n",
       "         1595., 16536.]),\n",
       " array([  0. ,  25.5,  51. ,  76.5, 102. , 127.5, 153. , 178.5, 204. ,\n",
       "        229.5, 255. ]),\n",
       " <a list of 10 Patch objects>)"
      ]
     },
     "execution_count": 12,
     "metadata": {},
     "output_type": "execute_result"
    },
    {
     "data": {
      "image/png": "[encoded data removed]",
      "text/plain": [
       "<Figure size 432x288 with 1 Axes>"
      ]
     },
     "metadata": {
      "needs_background": "light"
     },
     "output_type": "display_data"
    }
   ],
   "source": [
    "X_train_2D = np.reshape(X_train.values, (X_train.values.shape[0],)+(28,28))\n",
    "print(X_train_2D.shape)\n",
    "plt.hist(X_train_2D[:,14,14])"
   ]
  },
  {
   "cell_type": "code",
   "execution_count": 2,
   "metadata": {},
   "outputs": [
    {
     "data": {
      "text/plain": [
       "KNeighborsClassifier(algorithm='auto', leaf_size=30, metric='minkowski',\n",
       "                     metric_params=None, n_jobs=None, n_neighbors=4, p=2,\n",
       "                     weights='distance')"
      ]
     },
     "execution_count": 2,
     "metadata": {},
     "output_type": "execute_result"
    }
   ],
   "source": [
    "from sklearn.neighbors import KNeighborsClassifier\n",
    "\n",
    "knn_clf = KNeighborsClassifier(weights='distance',n_neighbors=4)\n",
    "\n",
    "knn_clf.fit(X_train,y_train)"
   ]
  },
  {
   "cell_type": "code",
   "execution_count": null,
   "metadata": {},
   "outputs": [],
   "source": []
  },
  {
   "cell_type": "code",
   "execution_count": null,
   "metadata": {},
   "outputs": [],
   "source": [
    "from sklearn.model_selection import cross_val_score, cross_val_predict\n",
    "from sklearn.metrics import confusion_matrix\n",
    "\n",
    "cv_scores_knn=cross_val_score(knn_clf, X_train, y_train, cv=3, scoring=\"accuracy\", verbose=3)\n",
    "\n",
    "#y_train_pred_knn = cross_val_predict(knn_clf, X_train, y_train, cv=3)\n",
    "\n",
    "#C_matrix_knn = confusion_matrix(y_train, y_train_pred_knn)"
   ]
  },
  {
   "cell_type": "code",
   "execution_count": null,
   "metadata": {},
   "outputs": [],
   "source": [
    "cv_scores_knn"
   ]
  },
  {
   "cell_type": "markdown",
   "metadata": {},
   "source": [
    "### KNN classifier with no pre-processing is 96.7% accurate - try scaling pixel values to break 97%"
   ]
  },
  {
   "cell_type": "code",
   "execution_count": null,
   "metadata": {},
   "outputs": [],
   "source": [
    "from sklearn.preprocessing import StandardScaler\n",
    "\n",
    "X_train_scaled=StandardScaler().fit_transform(X_train.astype(np.float64))\n",
    "print(X_train_scaled.shape,X_train.shape)\n",
    "c=['pixel%i'%n for n in np.arange(0,784)]\n",
    "print(c[-10:])\n",
    "\n",
    "X_train_scaled=pd.DataFrame(X_train_scaled,columns=c)\n",
    "\n",
    "X_train_scaled.head()"
   ]
  },
  {
   "cell_type": "code",
   "execution_count": null,
   "metadata": {},
   "outputs": [],
   "source": [
    "from sklearn.neighbors import KNeighborsClassifier\n",
    "\n",
    "knn_clf = KNeighborsClassifier(weights='distance',n_neighbors=4)\n",
    "\n",
    "knn_clf.fit(X_train_scaled,y_train)\n",
    "\n"
   ]
  },
  {
   "cell_type": "code",
   "execution_count": null,
   "metadata": {},
   "outputs": [],
   "source": [
    "from sklearn.model_selection import cross_val_score, cross_val_predict\n",
    "from sklearn.metrics import confusion_matrix\n",
    "\n",
    "cv_scores_knn=cross_val_score(knn_clf, X_train_scaled, y_train, cv=3, scoring=\"accuracy\")"
   ]
  },
  {
   "cell_type": "code",
   "execution_count": null,
   "metadata": {},
   "outputs": [],
   "source": [
    "cv_scores_knn"
   ]
  },
  {
   "cell_type": "code",
   "execution_count": null,
   "metadata": {},
   "outputs": [],
   "source": []
  }
 ],
 "metadata": {
  "kernelspec": {
   "display_name": "Python [conda env:mlpy] *",
   "language": "python",
   "name": "conda-env-mlpy-py"
  },
  "language_info": {
   "codemirror_mode": {
    "name": "ipython",
    "version": 3
   },
   "file_extension": ".py",
   "mimetype": "text/x-python",
   "name": "python",
   "nbconvert_exporter": "python",
   "pygments_lexer": "ipython3",
   "version": "3.7.6"
  }
 },
 "nbformat": 4,
 "nbformat_minor": 4
}
